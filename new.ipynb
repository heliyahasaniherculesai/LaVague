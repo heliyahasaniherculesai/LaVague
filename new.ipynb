{
 "cells": [
  {
   "cell_type": "code",
   "execution_count": 3,
   "metadata": {},
   "outputs": [
    {
     "name": "stdout",
     "output_type": "stream",
     "text": [
      "{\n",
      "  \"id\": \"chatcmpl-9UeiKED0yCVti4DQ7DZIO5ZdoQ6Mq\",\n",
      "  \"choices\": [\n",
      "    {\n",
      "      \"finish_reason\": \"stop\",\n",
      "      \"index\": 0,\n",
      "      \"message\": {\n",
      "        \"content\": \"To output all files in a directory using Python, you can use the `os` and `os.path` modules, or the `glob` module for more advanced pattern matching. Below, I will provide examples using both methods.\\n\\n### Using `os` and `os.path` Modules\\n\\nHere’s how you can list all files in a directory using the `os` and `os.path` modules:\\n\\n```python\\nimport os\\n\\ndef list_files(directory):\\n    try:\\n        # Get the list of all files and directories\\n        all_items = os.listdir(directory)\\n        \\n        # Filter out directories, just keep files\\n        files = [item for item in all_items if os.path.isfile(os.path.join(directory, item))]\\n        \\n        # Print all files\\n        for file in files:\\n            print(file)\\n            \\n    except Exception as e:\\n        print(f\\\"Error: {e}\\\")\\n\\n# Example usage:\\ndirectory_path = '/path/to/your/directory'\\nlist_files(directory_path)\\n```\\n\\n### Using `glob` Module\\n\\nThe `glob` module is useful for pattern matching:\\n\\n```python\\nimport glob\\nimport os\\n\\ndef list_files(directory):\\n    try:\\n        # Pattern to match all files\\n        pattern = os.path.join(directory, '*')\\n        \\n        # Get the list of all files\\n        files = [f for f in glob.glob(pattern) if os.path.isfile(f)]\\n        \\n        # Print all files\\n        for file in files:\\n            print(os.path.basename(file))\\n            \\n    except Exception as e:\\n        print(f\\\"Error: {e}\\\")\\n\\n# Example usage:\\ndirectory_path = '/path/to/your/directory'\\nlist_files(directory_path)\\n```\\n\\n### Using `pathlib` Module\\n\\nPython's `pathlib` module provides a modern and more object-oriented approach to file system paths:\\n\\n```python\\nfrom pathlib import Path\\n\\ndef list_files(directory):\\n    try:\\n        # Create a Path object\\n        path = Path(directory)\\n        \\n        # List all files in the directory\\n        files = [file for file in path.iterdir() if file.is_file()]\\n        \\n        # Print all files\\n        for file in files:\\n            print(file.name)\\n            \\n    except Exception as e:\\n        print(f\\\"Error: {e}\\\")\\n\\n# Example usage:\\ndirectory_path = '/path/to/your/directory'\\nlist_files(directory_path)\\n```\\n\\n### Summary\\n- The `os` and `os.path` modules provide basic functionality.\\n- The `glob` module allows pattern matching.\\n- The `pathlib` module offers an object-oriented approach and is often more intuitive.\\n\\nYou can choose the method that best fits your requirements and coding style.\",\n",
      "        \"role\": \"assistant\"\n",
      "      },\n",
      "      \"content_filter_results\": {\n",
      "        \"hate\": {\n",
      "          \"filtered\": false,\n",
      "          \"severity\": \"safe\"\n",
      "        },\n",
      "        \"self_harm\": {\n",
      "          \"filtered\": false,\n",
      "          \"severity\": \"safe\"\n",
      "        },\n",
      "        \"sexual\": {\n",
      "          \"filtered\": false,\n",
      "          \"severity\": \"safe\"\n",
      "        },\n",
      "        \"violence\": {\n",
      "          \"filtered\": false,\n",
      "          \"severity\": \"safe\"\n",
      "        }\n",
      "      }\n",
      "    }\n",
      "  ],\n",
      "  \"created\": 1717093372,\n",
      "  \"model\": \"gpt-4o-2024-05-13\",\n",
      "  \"object\": \"chat.completion\",\n",
      "  \"system_fingerprint\": \"fp_5f4bad809a\",\n",
      "  \"usage\": {\n",
      "    \"completion_tokens\": 540,\n",
      "    \"prompt_tokens\": 19,\n",
      "    \"total_tokens\": 559\n",
      "  },\n",
      "  \"prompt_filter_results\": [\n",
      "    {\n",
      "      \"prompt_index\": 0,\n",
      "      \"content_filter_results\": {\n",
      "        \"hate\": {\n",
      "          \"filtered\": false,\n",
      "          \"severity\": \"safe\"\n",
      "        },\n",
      "        \"self_harm\": {\n",
      "          \"filtered\": false,\n",
      "          \"severity\": \"safe\"\n",
      "        },\n",
      "        \"sexual\": {\n",
      "          \"filtered\": false,\n",
      "          \"severity\": \"safe\"\n",
      "        },\n",
      "        \"violence\": {\n",
      "          \"filtered\": false,\n",
      "          \"severity\": \"safe\"\n",
      "        }\n",
      "      }\n",
      "    }\n",
      "  ]\n",
      "}\n"
     ]
    }
   ],
   "source": [
    "from openai import AzureOpenAI\n",
    "import os \n",
    "\n",
    "client = AzureOpenAI(\n",
    "    api_key='cb2f399fab9346db940696d1618a1637',\n",
    "    api_version='2024-02-01',\n",
    "    azure_endpoint='https://herculesai-base-llms.openai.azure.com/',\n",
    ")\n",
    "\n",
    "completion = client.chat.completions.create(\n",
    "    model='Hercules-Base',  # e.g. gpt-35-instant\n",
    "    messages=[\n",
    "        {\n",
    "            \"role\": \"user\",\n",
    "            \"content\": \"How do I output all files in a directory using Python?\",\n",
    "        },\n",
    "    ],\n",
    ")\n",
    "print(completion.to_json())"
   ]
  },
  {
   "cell_type": "code",
   "execution_count": null,
   "metadata": {},
   "outputs": [],
   "source": []
  },
  {
   "cell_type": "code",
   "execution_count": null,
   "metadata": {},
   "outputs": [],
   "source": []
  }
 ],
 "metadata": {
  "kernelspec": {
   "display_name": "lavague-OxGKYFu0-py3.10",
   "language": "python",
   "name": "python3"
  },
  "language_info": {
   "codemirror_mode": {
    "name": "ipython",
    "version": 3
   },
   "file_extension": ".py",
   "mimetype": "text/x-python",
   "name": "python",
   "nbconvert_exporter": "python",
   "pygments_lexer": "ipython3",
   "version": "3.10.4"
  }
 },
 "nbformat": 4,
 "nbformat_minor": 2
}
